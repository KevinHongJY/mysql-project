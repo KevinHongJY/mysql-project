{
 "cells": [
  {
   "cell_type": "code",
   "execution_count": 15,
   "id": "c8d0abdc-5464-4a09-8a56-48ca59bd6330",
   "metadata": {},
   "outputs": [],
   "source": [
    "from MySqlHelper import MySqlHelper\n",
    "helper = MySqlHelper(host='localhost', user='root', password='@Kevin021117', database='school')\n",
    "helper.connect()\n"
   ]
  },
  {
   "cell_type": "code",
   "execution_count": 16,
   "id": "baf178d9-dbcc-45e3-952a-85c8be5a1e57",
   "metadata": {},
   "outputs": [
    {
     "data": {
      "text/plain": [
       "0"
      ]
     },
     "execution_count": 16,
     "metadata": {},
     "output_type": "execute_result"
    }
   ],
   "source": [
    "create_sql = \"\"\"\n",
    "CREATE TABLE IF NOT EXISTS student (\n",
    "    id INT PRIMARY KEY,\n",
    "    name VARCHAR(50),\n",
    "    height DECIMAL(5,2)\n",
    ");\n",
    "\"\"\"\n",
    "helper.execute(create_sql)\n"
   ]
  },
  {
   "cell_type": "code",
   "execution_count": 17,
   "id": "363f8ce0-6aad-419d-86b7-b8f42cdbb79b",
   "metadata": {},
   "outputs": [
    {
     "data": {
      "text/plain": [
       "'\\nCREATE TABLE IF NOT EXISTS student (\\n    id INT PRIMARY KEY,\\n    name VARCHAR(50),\\n    height DECIMAL(5,2)\\n);\\n'"
      ]
     },
     "execution_count": 17,
     "metadata": {},
     "output_type": "execute_result"
    }
   ],
   "source": [
    "create_sql"
   ]
  },
  {
   "cell_type": "code",
   "execution_count": 18,
   "id": "04c050fe-7b9c-4731-a641-b74702b22bf0",
   "metadata": {},
   "outputs": [
    {
     "name": "stdout",
     "output_type": "stream",
     "text": [
      "执行失败，正在回滚：(1062, \"Duplicate entry '3' for key 'student.PRIMARY'\")\n",
      "执行失败，正在回滚：(1062, \"Duplicate entry '4' for key 'student.PRIMARY'\")\n"
     ]
    },
    {
     "data": {
      "text/plain": [
       "0"
      ]
     },
     "execution_count": 18,
     "metadata": {},
     "output_type": "execute_result"
    }
   ],
   "source": [
    "insert_sql = \"INSERT INTO student (id, name, height) VALUES (%s, %s, %s)\"\n",
    "helper.execute(insert_sql, (3, 'aaa', 175.50))\n",
    "helper.execute(insert_sql, (4, 'bbb', 168.00))\n"
   ]
  },
  {
   "cell_type": "code",
   "execution_count": 19,
   "id": "3032b585-1483-4ef1-948e-758d30f18cfd",
   "metadata": {},
   "outputs": [
    {
     "name": "stdout",
     "output_type": "stream",
     "text": [
      "[{'id': 1, 'name': '张三', 'height': Decimal('180.00')}, {'id': 3, 'name': 'aaa', 'height': Decimal('175.50')}, {'id': 4, 'name': 'bbb', 'height': Decimal('187.00')}]\n"
     ]
    }
   ],
   "source": [
    "select_all = \"SELECT * FROM student\"\n",
    "students = helper.query(select_all)\n",
    "print(students)\n",
    "\n"
   ]
  },
  {
   "cell_type": "code",
   "execution_count": 20,
   "id": "22dad7ff-57dd-4f9d-b89a-57f43e7b8306",
   "metadata": {},
   "outputs": [
    {
     "data": {
      "text/plain": [
       "0"
      ]
     },
     "execution_count": 20,
     "metadata": {},
     "output_type": "execute_result"
    }
   ],
   "source": [
    "update_sql = \"UPDATE student SET height = %s WHERE id = %s\"\n",
    "helper.execute(update_sql, (187.00, 4))\n"
   ]
  },
  {
   "cell_type": "code",
   "execution_count": 21,
   "id": "3a4ebf23-164b-4d92-b208-16eecb4e0c07",
   "metadata": {},
   "outputs": [
    {
     "data": {
      "text/plain": [
       "0"
      ]
     },
     "execution_count": 21,
     "metadata": {},
     "output_type": "execute_result"
    }
   ],
   "source": [
    "delete_sql = \"DELETE FROM student WHERE id = %s\"\n",
    "helper.execute(delete_sql, (2,))"
   ]
  },
  {
   "cell_type": "code",
   "execution_count": 22,
   "id": "e01ea64f-35ac-482a-8aef-968fb0f8ef86",
   "metadata": {},
   "outputs": [
    {
     "name": "stdout",
     "output_type": "stream",
     "text": [
      "[{'id': 1, 'name': '张三', 'height': Decimal('180.00')}, {'id': 3, 'name': 'aaa', 'height': Decimal('175.50')}, {'id': 4, 'name': 'bbb', 'height': Decimal('187.00')}]\n"
     ]
    }
   ],
   "source": [
    "select_all = \"SELECT * FROM student\"\n",
    "students = helper.query(select_all)\n",
    "print(students)"
   ]
  },
  {
   "cell_type": "code",
   "execution_count": null,
   "id": "0fe904b9-fce7-424b-abe5-db6daf90bb5a",
   "metadata": {},
   "outputs": [],
   "source": []
  }
 ],
 "metadata": {
  "kernelspec": {
   "display_name": "tf",
   "language": "python",
   "name": "python3"
  },
  "language_info": {
   "codemirror_mode": {
    "name": "ipython",
    "version": 3
   },
   "file_extension": ".py",
   "mimetype": "text/x-python",
   "name": "python",
   "nbconvert_exporter": "python",
   "pygments_lexer": "ipython3",
   "version": "3.10.14"
  }
 },
 "nbformat": 4,
 "nbformat_minor": 5
}
