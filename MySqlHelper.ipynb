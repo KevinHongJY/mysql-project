{
 "cells": [
  {
   "cell_type": "code",
   "execution_count": 1,
   "id": "8b8ba77c-2740-4afc-b26d-06ec83297931",
   "metadata": {},
   "outputs": [],
   "source": [
    "import pymysql\n",
    "\n",
    "class MySqlHelper:\n",
    "    def __init__(self, host, user, password, database, port=3306, charset='utf8mb4'):\n",
    "        \"\"\"\n",
    "        初始化连接参数\n",
    "        :param host: 数据库主机地址，如 'localhost'\n",
    "        :param user: 数据库用户名，如 'root'\n",
    "        :param password: 数据库密码\n",
    "        :param database: 要操作的数据库名，如 'school'\n",
    "        :param port: 数据库端口，默认 3306\n",
    "        :param charset: 字符编码，默认 utf8mb4\n",
    "        \"\"\"\n",
    "        self.host = host\n",
    "        self.user = user\n",
    "        self.password = password\n",
    "        self.database = database\n",
    "        self.port = port\n",
    "        self.charset = charset\n",
    "        self.conn = None  \n",
    "        self.cursor = None  \n",
    "\n",
    "    def connect(self):\n",
    "        try:\n",
    "            self.conn = pymysql.connect(\n",
    "                host=self.host,\n",
    "                user=self.user,\n",
    "                password=self.password,\n",
    "                database=self.database,\n",
    "                port=self.port,\n",
    "                charset=self.charset,\n",
    "                cursorclass=pymysql.cursors.DictCursor\n",
    "            )\n",
    "            self.cursor = self.conn.cursor()\n",
    "        except pymysql.MySQLError as e:\n",
    "            print(f\"连接数据库失败：{e}\")\n",
    "            raise\n",
    "\n",
    "    def close(self):\n",
    "        if self.cursor:\n",
    "            self.cursor.close()\n",
    "        if self.conn:\n",
    "            self.conn.close()\n",
    "\n",
    "    def query(self, sql, params=None):\n",
    "        \"\"\"\n",
    "        执行 SELECT 查询，返回所有记录列表。\n",
    "        :param sql: 带占位符的 SQL 查询，如 \"SELECT * FROM student WHERE height > %s\"\n",
    "        :param params: 与 SQL 中 %s 对应的参数元组或列表，如 (170,)\n",
    "        :return: 查询结果列表，列表中每个元素为字典（DictCursor 输出格式）\n",
    "        \"\"\"\n",
    "        try:\n",
    "            self.cursor.execute(sql, params or ())\n",
    "            result = self.cursor.fetchall()\n",
    "            return result\n",
    "        except pymysql.MySQLError as e:\n",
    "            print(f\"查询失败：{e}\")\n",
    "            return None\n",
    "\n",
    "    def fetch_one(self, sql, params=None):\n",
    "        \"\"\"\n",
    "        执行 SELECT 查询，只返回第一条记录。\n",
    "        :param sql: 带占位符的 SQL 查询\n",
    "        :param params: 参数元组或列表\n",
    "        :return: 单条记录字典，若无记录则返回 None\n",
    "        \"\"\"\n",
    "        try:\n",
    "            self.cursor.execute(sql, params or ())\n",
    "            result = self.cursor.fetchone()\n",
    "            return result\n",
    "        except pymysql.MySQLError as e:\n",
    "            print(f\"单条查询失败：{e}\")\n",
    "            return None\n",
    "\n",
    "    def execute(self, sql, params=None):\n",
    "        \"\"\"\n",
    "        执行 INSERT/UPDATE/DELETE 等写操作，并自动提交事务。\n",
    "        :param sql: 带占位符的 SQL 语句\n",
    "        :param params: 参数元组或列表\n",
    "        :return: 受影响的行数\n",
    "        \"\"\"\n",
    "        try:\n",
    "            affected = self.cursor.execute(sql, params or ())\n",
    "            self.conn.commit()\n",
    "            return affected\n",
    "        except pymysql.MySQLError as e:\n",
    "            print(f\"执行失败，正在回滚：{e}\")\n",
    "            self.conn.rollback()\n",
    "            return 0\n"
   ]
  },
  {
   "cell_type": "code",
   "execution_count": 2,
   "id": "c8d0abdc-5464-4a09-8a56-48ca59bd6330",
   "metadata": {},
   "outputs": [],
   "source": [
    "\n",
    "helper = MySqlHelper(host='localhost', user='root', password='@Kevin021117', database='school')\n",
    "helper.connect()\n"
   ]
  },
  {
   "cell_type": "code",
   "execution_count": 3,
   "id": "baf178d9-dbcc-45e3-952a-85c8be5a1e57",
   "metadata": {},
   "outputs": [
    {
     "data": {
      "text/plain": [
       "0"
      ]
     },
     "execution_count": 3,
     "metadata": {},
     "output_type": "execute_result"
    }
   ],
   "source": [
    "create_sql = \"\"\"\n",
    "CREATE TABLE IF NOT EXISTS student (\n",
    "    id INT PRIMARY KEY,\n",
    "    name VARCHAR(50),\n",
    "    height DECIMAL(5,2)\n",
    ");\n",
    "\"\"\"\n",
    "helper.execute(create_sql)\n"
   ]
  },
  {
   "cell_type": "code",
   "execution_count": 4,
   "id": "363f8ce0-6aad-419d-86b7-b8f42cdbb79b",
   "metadata": {},
   "outputs": [
    {
     "data": {
      "text/plain": [
       "'\\nCREATE TABLE IF NOT EXISTS student (\\n    id INT PRIMARY KEY,\\n    name VARCHAR(50),\\n    height DECIMAL(5,2)\\n);\\n'"
      ]
     },
     "execution_count": 4,
     "metadata": {},
     "output_type": "execute_result"
    }
   ],
   "source": [
    "create_sql"
   ]
  },
  {
   "cell_type": "code",
   "execution_count": 10,
   "id": "04c050fe-7b9c-4731-a641-b74702b22bf0",
   "metadata": {},
   "outputs": [
    {
     "data": {
      "text/plain": [
       "1"
      ]
     },
     "execution_count": 10,
     "metadata": {},
     "output_type": "execute_result"
    }
   ],
   "source": [
    "insert_sql = \"INSERT INTO student (id, name, height) VALUES (%s, %s, %s)\"\n",
    "helper.execute(insert_sql, (3, 'aaa', 175.50))\n",
    "helper.execute(insert_sql, (4, 'bbb', 168.00))\n"
   ]
  },
  {
   "cell_type": "code",
   "execution_count": 11,
   "id": "3032b585-1483-4ef1-948e-758d30f18cfd",
   "metadata": {},
   "outputs": [
    {
     "name": "stdout",
     "output_type": "stream",
     "text": [
      "[{'id': 1, 'name': '张三', 'height': Decimal('180.00')}, {'id': 3, 'name': 'aaa', 'height': Decimal('175.50')}, {'id': 4, 'name': 'bbb', 'height': Decimal('168.00')}]\n"
     ]
    }
   ],
   "source": [
    "select_all = \"SELECT * FROM student\"\n",
    "students = helper.query(select_all)\n",
    "print(students)\n",
    "\n"
   ]
  },
  {
   "cell_type": "code",
   "execution_count": 12,
   "id": "22dad7ff-57dd-4f9d-b89a-57f43e7b8306",
   "metadata": {},
   "outputs": [
    {
     "data": {
      "text/plain": [
       "1"
      ]
     },
     "execution_count": 12,
     "metadata": {},
     "output_type": "execute_result"
    }
   ],
   "source": [
    "update_sql = \"UPDATE student SET height = %s WHERE id = %s\"\n",
    "helper.execute(update_sql, (187.00, 4))\n"
   ]
  },
  {
   "cell_type": "code",
   "execution_count": 8,
   "id": "3a4ebf23-164b-4d92-b208-16eecb4e0c07",
   "metadata": {},
   "outputs": [
    {
     "data": {
      "text/plain": [
       "1"
      ]
     },
     "execution_count": 8,
     "metadata": {},
     "output_type": "execute_result"
    }
   ],
   "source": [
    "delete_sql = \"DELETE FROM student WHERE id = %s\"\n",
    "helper.execute(delete_sql, (2,))"
   ]
  },
  {
   "cell_type": "code",
   "execution_count": 13,
   "id": "e01ea64f-35ac-482a-8aef-968fb0f8ef86",
   "metadata": {},
   "outputs": [
    {
     "name": "stdout",
     "output_type": "stream",
     "text": [
      "[{'id': 1, 'name': '张三', 'height': Decimal('180.00')}, {'id': 3, 'name': 'aaa', 'height': Decimal('175.50')}, {'id': 4, 'name': 'bbb', 'height': Decimal('187.00')}]\n"
     ]
    }
   ],
   "source": [
    "select_all = \"SELECT * FROM student\"\n",
    "students = helper.query(select_all)\n",
    "print(students)"
   ]
  },
  {
   "cell_type": "code",
   "execution_count": null,
   "id": "0fe904b9-fce7-424b-abe5-db6daf90bb5a",
   "metadata": {},
   "outputs": [],
   "source": []
  }
 ],
 "metadata": {
  "kernelspec": {
   "display_name": "Python 3 (ipykernel)",
   "language": "python",
   "name": "python3"
  },
  "language_info": {
   "codemirror_mode": {
    "name": "ipython",
    "version": 3
   },
   "file_extension": ".py",
   "mimetype": "text/x-python",
   "name": "python",
   "nbconvert_exporter": "python",
   "pygments_lexer": "ipython3",
   "version": "3.11.0"
  }
 },
 "nbformat": 4,
 "nbformat_minor": 5
}
